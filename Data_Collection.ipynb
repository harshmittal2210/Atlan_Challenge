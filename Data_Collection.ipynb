{
 "cells": [
  {
   "cell_type": "markdown",
   "metadata": {},
   "source": [
    "# Data Collection\n",
    "Run to generate fresh data, else skip and move to next kernel\n",
    "\n",
    "Note: If any error is occured then run it again as sometimes data obtained from requests can be corrupted. "
   ]
  },
  {
   "cell_type": "code",
   "execution_count": null,
   "metadata": {},
   "outputs": [],
   "source": [
    "import pandas as pd\n",
    "import numpy as np\n",
    "import requests\n",
    "import json"
   ]
  },
  {
   "cell_type": "code",
   "execution_count": null,
   "metadata": {},
   "outputs": [],
   "source": [
    "overpass_url = \"http://overpass-api.de/api/interpreter\"\n",
    "##########################################################\n",
    "overpass_query = \"\"\"\n",
    "[out:json];\n",
    "area[\"ISO3166-1\"=\"DE\"][admin_level=2];\n",
    "(node[\"amenity\"=\"marketplace\"](area);\n",
    " way[\"amenity\"=\"marketplace\"](area);\n",
    " rel[\"amenity\"=\"marketplace\"](area);\n",
    ");\n",
    "out center;\n",
    "\"\"\"\n",
    "response = requests.get(overpass_url, \n",
    "                        params={'data': overpass_query})\n",
    "data=response.json()\n",
    "df = pd.DataFrame(data['elements'])\n",
    "df['tags'] = 'marketplace'\n",
    "\n",
    "##########################################################\n",
    "\n",
    "overpass_query = \"\"\"\n",
    "[out:json];\n",
    "area[\"ISO3166-1\"=\"DE\"][admin_level=2];\n",
    "(node[\"amenity\"=\"fuel\"](area);\n",
    " way[\"amenity\"=\"fuel\"](area);\n",
    " rel[\"amenity\"=\"fuel\"](area);\n",
    ");\n",
    "out center;\n",
    "\"\"\"\n",
    "response1 = requests.get(overpass_url, \n",
    "                        params={'data': overpass_query})\n",
    "data1=response1.json()\n",
    "df1 = pd.DataFrame(data1['elements'])\n",
    "df1['tags'] = 'fuel'\n",
    "##########################################################\n",
    "\n",
    "overpass_query = \"\"\"\n",
    "[out:json];\n",
    "area[\"ISO3166-1\"=\"DE\"][admin_level=2];\n",
    "(node[\"amenity\"=\"cafe\"](area);\n",
    " way[\"amenity\"=\"cafe\"](area);\n",
    " rel[\"amenity\"=\"cafe\"](area);\n",
    ");\n",
    "out center;\n",
    "\"\"\"\n",
    "response2 = requests.get(overpass_url, \n",
    "                        params={'data': overpass_query})\n",
    "data2=response2.json()\n",
    "df2 = pd.DataFrame(data2['elements'])\n",
    "df2['tags'] = 'cafe'\n",
    "##########################################################\n",
    "\n",
    "overpass_query = \"\"\"\n",
    "[out:json];\n",
    "area[\"ISO3166-1\"=\"DE\"][admin_level=2];\n",
    "(node[\"amenity\"=\"parking\"](area);\n",
    " way[\"amenity\"=\"parking\"](area);\n",
    " rel[\"amenity\"=\"parking\"](area);\n",
    ");\n",
    "out center;\n",
    "\"\"\"\n",
    "response3 = requests.get(overpass_url, \n",
    "                        params={'data': overpass_query})\n",
    "data3=response3.json()\n",
    "df3 = pd.DataFrame(data3['elements'])\n",
    "df3['tags'] = 'parking'\n",
    "\n"
   ]
  },
  {
   "cell_type": "markdown",
   "metadata": {},
   "source": [
    "Concate data till now"
   ]
  },
  {
   "cell_type": "code",
   "execution_count": null,
   "metadata": {},
   "outputs": [],
   "source": [
    "new = pd.concat([df,df1,df2,df3],axis=0)"
   ]
  },
  {
   "cell_type": "code",
   "execution_count": null,
   "metadata": {},
   "outputs": [],
   "source": [
    "df=df1=df2=df3=[]\n",
    "overpass_url = \"http://overpass-api.de/api/interpreter\"\n",
    "overpass_query = \"\"\"\n",
    "[out:json];\n",
    "area[\"ISO3166-1\"=\"DE\"][admin_level=2];\n",
    "(node[\"amenity\"=\"school\"](area);\n",
    " way[\"amenity\"=\"school\"](area);\n",
    " rel[\"amenity\"=\"school\"](area);\n",
    ");\n",
    "out center;\n",
    "\"\"\"\n",
    "response = requests.get(overpass_url, \n",
    "                        params={'data': overpass_query})\n",
    "data=response.json()\n",
    "df = pd.DataFrame(data['elements'])\n",
    "df['tags'] = 'school'\n",
    "##########################################################\n",
    "\n",
    "overpass_query = \"\"\"\n",
    "[out:json];\n",
    "area[\"ISO3166-1\"=\"DE\"][admin_level=2];\n",
    "(node[\"amenity\"=\"bank\"](area);\n",
    " way[\"amenity\"=\"bank\"](area);\n",
    " rel[\"amenity\"=\"bank\"](area);\n",
    ");\n",
    "out center;\n",
    "\"\"\"\n",
    "response1 = requests.get(overpass_url, \n",
    "                        params={'data': overpass_query})\n",
    "data1=response1.json()\n",
    "df1 = pd.DataFrame(data1['elements'])\n",
    "df1['tags'] = 'bank'\n",
    "##########################################################\n",
    "\n",
    "overpass_query = \"\"\"\n",
    "[out:json];\n",
    "area[\"ISO3166-1\"=\"DE\"][admin_level=2];\n",
    "(node[\"amenity\"=\"theatre\"](area);\n",
    " way[\"amenity\"=\"theatre\"](area);\n",
    " rel[\"amenity\"=\"theatre\"](area);\n",
    ");\n",
    "out center;\n",
    "\"\"\"\n",
    "response2 = requests.get(overpass_url, \n",
    "                        params={'data': overpass_query})\n",
    "data2=response2.json()\n",
    "df2 = pd.DataFrame(data2['elements'])\n",
    "df2['tags'] = 'theatre'\n",
    "##########################################################\n",
    "\n",
    "overpass_query = \"\"\"\n",
    "[out:json];\n",
    "area[\"ISO3166-1\"=\"DE\"][admin_level=2];\n",
    "(node[\"amenity\"=\"post_office\"](area);\n",
    " way[\"amenity\"=\"post_office\"](area);\n",
    " rel[\"amenity\"=\"post_office\"](area);\n",
    ");\n",
    "out center;\n",
    "\"\"\"\n",
    "response3 = requests.get(overpass_url, \n",
    "                        params={'data': overpass_query})\n",
    "data3=response3.json()\n",
    "df3 = pd.DataFrame(data3['elements'])\n",
    "df3['tags'] = 'post_office'\n",
    "##########################################################"
   ]
  },
  {
   "cell_type": "markdown",
   "metadata": {},
   "source": [
    "Concate all the Data and save it in CSV File"
   ]
  },
  {
   "cell_type": "code",
   "execution_count": null,
   "metadata": {},
   "outputs": [],
   "source": [
    "new1 = pd.concat([new,df,df1,df2,df3],axis=0)\n",
    "new1.to_csv(\"Data_1.csv\")"
   ]
  }
 ],
 "metadata": {
  "kernelspec": {
   "display_name": "Python 3",
   "language": "python",
   "name": "python3"
  },
  "language_info": {
   "codemirror_mode": {
    "name": "ipython",
    "version": 3
   },
   "file_extension": ".py",
   "mimetype": "text/x-python",
   "name": "python",
   "nbconvert_exporter": "python",
   "pygments_lexer": "ipython3",
   "version": "3.7.3"
  }
 },
 "nbformat": 4,
 "nbformat_minor": 2
}
